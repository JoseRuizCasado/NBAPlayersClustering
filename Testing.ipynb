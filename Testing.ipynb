{
 "cells": [
  {
   "cell_type": "code",
   "execution_count": 1,
   "metadata": {
    "collapsed": true
   },
   "outputs": [],
   "source": [
    "from sklearn.cluster import KMeans\n",
    "import joblib"
   ]
  },
  {
   "cell_type": "code",
   "execution_count": 2,
   "outputs": [
    {
     "data": {
      "text/plain": "{'n_clusters': 5,\n 'init': 'k-means++',\n 'max_iter': 300,\n 'tol': 0.0001,\n 'precompute_distances': 'auto',\n 'n_init': 2000,\n 'verbose': 0,\n 'random_state': None,\n 'copy_x': True,\n 'n_jobs': None,\n 'algorithm': 'auto',\n 'cluster_centers_': array([[ 5.29231609e-01,  1.19069106e+00, -8.30704252e-01,\n          7.81906338e-01,  1.41626869e+00,  8.31524279e-01,\n          1.07947308e+00, -3.28701575e-02, -2.85234529e-01,\n          1.39222993e-01, -1.28868455e-02, -5.55960380e-01,\n          3.10102177e-01,  6.82981411e-01,  6.41799958e-01],\n        [-1.00856745e+00, -6.88381180e-01,  2.16218969e-01,\n         -9.67142144e-01, -8.44280743e-01, -7.69631702e-01,\n         -2.34165925e-01, -1.31031580e-01, -4.53971781e-01,\n         -1.93441800e-01, -2.30402880e-01,  4.47557363e-01,\n         -1.56913011e-01, -2.66997485e-01, -8.16428494e-02],\n        [-4.41265314e-03,  4.77966835e-01, -5.97328398e-01,\n          2.24663040e-01, -4.23208943e-01, -5.59738634e-01,\n          5.61526402e-01, -1.01993212e+00,  1.99934093e+00,\n          1.56906713e+00,  9.93293898e-02,  1.35852492e+00,\n          1.24566896e+00,  1.36417526e+00,  7.16493275e-02],\n        [ 6.32678636e-01,  1.13488971e-01, -1.53664292e-01,\n          6.13590186e-01,  3.05393560e-01,  7.20786894e-01,\n         -6.94318851e-01,  7.10997150e-01, -1.26666632e-01,\n         -6.87385257e-01, -2.74457339e-01, -4.84992712e-01,\n         -9.34660925e-01, -4.94865395e-01, -8.68351653e-01],\n        [ 4.77997360e-01, -2.27286472e-01,  1.09953646e+00,\n         -1.51416635e-03,  1.89982568e-01, -1.21622763e-01,\n          4.14893151e-01, -3.29353996e-01,  6.04986071e-02,\n          4.93991225e-01,  1.00571096e+00, -4.99951955e-01,\n          9.78022231e-01, -1.15637728e-01,  1.22486276e+00]]),\n 'labels_': array([1, 1, 0, 3, 3, 4, 4, 3, 3, 1, 0, 1, 1, 1, 1, 1, 3, 0, 1, 3, 0, 1,\n        3, 2, 2, 1, 1, 3, 3, 1, 1, 2, 1, 3, 3, 1, 2, 3, 0, 4, 2, 3, 0, 3,\n        2, 3, 0, 3, 1, 4, 0, 4, 1, 4, 4, 4]),\n 'inertia_': 480.86265214146283,\n 'n_iter_': 4}"
     },
     "execution_count": 2,
     "metadata": {},
     "output_type": "execute_result"
    }
   ],
   "source": [
    "pg_kmeans = joblib.load('Models/Finals/kmeans_pg.sav')\n",
    "\n",
    "pg_kmeans.__dict__\n"
   ],
   "metadata": {
    "collapsed": false,
    "pycharm": {
     "name": "#%%\n"
    }
   }
  }
 ],
 "metadata": {
  "kernelspec": {
   "display_name": "Python 3",
   "language": "python",
   "name": "python3"
  },
  "language_info": {
   "codemirror_mode": {
    "name": "ipython",
    "version": 2
   },
   "file_extension": ".py",
   "mimetype": "text/x-python",
   "name": "python",
   "nbconvert_exporter": "python",
   "pygments_lexer": "ipython2",
   "version": "2.7.6"
  }
 },
 "nbformat": 4,
 "nbformat_minor": 0
}